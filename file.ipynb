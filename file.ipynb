{
 "cells": [
  {
   "cell_type": "code",
   "execution_count": 1,
   "metadata": {},
   "outputs": [],
   "source": [
    "import numpy as np"
   ]
  },
  {
   "cell_type": "code",
   "execution_count": 2,
   "metadata": {},
   "outputs": [],
   "source": [
    "heights = np.array([160, 155, 172, 165, 180, 158, 175, 163, 171, 168])"
   ]
  },
  {
   "cell_type": "code",
   "execution_count": 3,
   "metadata": {},
   "outputs": [
    {
     "name": "stdout",
     "output_type": "stream",
     "text": [
      "mean: 166.7\n",
      "median: 166.5\n",
      "Standard deviation: 7.5372408744845085\n"
     ]
    }
   ],
   "source": [
    "#calculate mean, median and standard deviation\n",
    "\n",
    "heights_mean = np.mean(heights)\n",
    "heights_median = np.median(heights)\n",
    "std_heights = np.std(heights)\n",
    "\n",
    "print(f'mean: {heights_mean}\\nmedian: {heights_median}\\nStandard deviation: {std_heights}')"
   ]
  },
  {
   "cell_type": "code",
   "execution_count": 4,
   "metadata": {},
   "outputs": [
    {
     "name": "stdout",
     "output_type": "stream",
     "text": [
      "normalised heights: [-0.88891945 -1.55229217  0.70317509 -0.22554673  1.76457144 -1.15426854\n",
      "  1.10119872 -0.49089581  0.57050054  0.17247691]\n"
     ]
    }
   ],
   "source": [
    "#Normalized heights\n",
    "normal_heights = (heights-heights_mean)/std_heights\n",
    "print(f'normalised heights: {normal_heights}')"
   ]
  },
  {
   "cell_type": "code",
   "execution_count": 5,
   "metadata": {},
   "outputs": [
    {
     "name": "stdout",
     "output_type": "stream",
     "text": [
      "Tallest student height: 4cm\n",
      "Shortest student height: 1cm\n"
     ]
    }
   ],
   "source": [
    "#tallest and shortest student\n",
    "tallest_student = np.argmax(heights)\n",
    "shortest_student = np.argmin(heights)\n",
    "\n",
    "print(f'Tallest student height: {tallest_student}cm\\nShortest student height: {shortest_student}cm')"
   ]
  },
  {
   "cell_type": "code",
   "execution_count": 7,
   "metadata": {},
   "outputs": [
    {
     "name": "stdout",
     "output_type": "stream",
     "text": [
      "Height difference between tallest and shortest: 25cm\n"
     ]
    }
   ],
   "source": [
    "#difference between tallest and shortest students\n",
    "\n",
    "height_difference = heights.max()-heights.min()\n",
    "print(f'Height difference between tallest and shortest: {height_difference}cm')"
   ]
  },
  {
   "cell_type": "code",
   "execution_count": 8,
   "metadata": {},
   "outputs": [
    {
     "name": "stdout",
     "output_type": "stream",
     "text": [
      "Random selection with no replacement: [168 155 158 163 171]\n"
     ]
    }
   ],
   "source": [
    "#Randomly select 5 heights without replacement\n",
    "random_selection = np.random.choice(heights, 5, replace=False)\n",
    "print(f'Random selection with no replacement: {random_selection}')"
   ]
  },
  {
   "cell_type": "code",
   "execution_count": null,
   "metadata": {},
   "outputs": [],
   "source": []
  }
 ],
 "metadata": {
  "kernelspec": {
   "display_name": "Python 3",
   "language": "python",
   "name": "python3"
  },
  "language_info": {
   "codemirror_mode": {
    "name": "ipython",
    "version": 3
   },
   "file_extension": ".py",
   "mimetype": "text/x-python",
   "name": "python",
   "nbconvert_exporter": "python",
   "pygments_lexer": "ipython3",
   "version": "3.11.9"
  }
 },
 "nbformat": 4,
 "nbformat_minor": 2
}
